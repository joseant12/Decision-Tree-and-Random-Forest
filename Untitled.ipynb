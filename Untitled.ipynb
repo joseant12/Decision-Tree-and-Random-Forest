{
 "cells": [
  {
   "cell_type": "markdown",
   "metadata": {},
   "source": [
    "# Decision Tree\n",
    "___\n",
    "\n",
    "Un arbol de decisión es una función que toma un vector o dataset como parámetro de entrada y genera un resultado llamado decisión, esta decisión puede ser un valor discreto o continuo.\n",
    "\n",
    "### Nodos del árbol\n",
    "\n",
    "Existen dos tipos de nodos en un árbol de decisión, ramas y hojas, las ramas contienen los predicados o \"preguntas\" que permiten tomar una decisión al algoritmo, por otra parte, las hojas contienen la decisión a la que se llega mediante los predicados en las ramas del árbol.\n",
    "\n",
    "### Selección de predicados\n",
    "\n",
    "La selección de un predicado en un nivel del árbol determina que tanto se disminuirá la incertidumbre de los datos en el siguiente nivel para así poder llegar una decisión lo más acertada posible, es por esto que elegir el mejor predicado para dividir el árbol es la tarea más importante. A continuación un ejemplo para ilustrar la escogencia de atributos:\n",
    "\n"
   ]
  },
  {
   "cell_type": "markdown",
   "metadata": {},
   "source": [
    "### Imports"
   ]
  },
  {
   "cell_type": "code",
   "execution_count": 36,
   "metadata": {},
   "outputs": [],
   "source": [
    "from __future__ import print_function\n",
    "import math\n",
    "import graphviz"
   ]
  },
  {
   "cell_type": "markdown",
   "metadata": {},
   "source": [
    "### Dataset\n",
    "El siguiente dataset consta de un registro de desiciones sobre si realizar o no una tarea tomando en cuenta factores como el valor de la tarea, el curso al que corresponde, el interés del estudiante sobre la tarea, limitación del tiempo, el conocimiento sobre el tema de la tarea y la nota actual del estudiante."
   ]
  },
  {
   "cell_type": "code",
   "execution_count": 37,
   "metadata": {},
   "outputs": [],
   "source": [
    "columnas = ['Valor', 'Curso', 'Interes', 'Tiempo limitado', 'Conocimiento', 'Nota','Clasificador']\n",
    "dataset = [\n",
    "        [5, 'IA', 'Medio', 'Alto', 'Medio', 60,'Si'],\n",
    "        [10, 'IA', 'Alto', 'Bajo', 'Bajo', 50,'Si'],\n",
    "        [15, 'Seminario','Medio', 'Bajo', 'Alto', 70,'No'],\n",
    "        [10, 'AP', 'Bajo', 'Medio', 'Alto', 50,'Si'],\n",
    "        [5, 'Seminario', 'Bajo', 'Alto', 'Medio', 60,'Si'],\n",
    "        [5, 'AP', 'Medio', 'Medio', 'Bajo', 40,'No'],\n",
    "        [10, 'Seminario', 'Alto', 'Medio', 'Alto', 70,'No'],\n",
    "        [15, 'AP', 'Bajo', 'Bajo', 'Bajo', 40,'Si'],\n",
    "        [15, 'Redes', 'Medio', 'Medio', 'Medio', 40,'No'],\n",
    "        [10, 'Seminario', 'Alto', 'Bajo', 'Medio', 60,'Si'],\n",
    "        [5, 'IA', 'Alto', 'Alto', 'Bajo', 50,'Si'],\n",
    "        [10, 'Seminario', 'Bajo', 'Medio', 'Alto', 40,'No'],\n",
    "        [5, 'AP', 'Medio', 'Bajo', 'Bajo', 60,'No'],\n",
    "        [15, 'IA', 'Medio', 'Medio', 'Medio', 50,'Si'],\n",
    "        [5, 'Redes', 'Bajo', 'Medio', 'Medio', 50,'No'],\n",
    "        [10, 'Redes', 'Alto', 'Bajo', 'Alto', 60,'Si'],\n",
    "        [15, 'Seminario', 'Bajo', 'Bajo', 'Alto', 70,'No'],\n",
    "        [15, 'IA', 'Bajo', 'Medio', 'Medio', 50,'Si'],\n",
    "        [5, 'AP', 'Medio', 'Medio', 'Bajo', 60,'Si'],\n",
    "        [5, 'IA', 'Medio', 'Medio', 'Bajo', 60,'Si'],\n",
    "        [10, 'Seminario', 'Alto', 'Medio', 'Bajo', 70,'No'],\n",
    "]"
   ]
  },
  {
   "cell_type": "code",
   "execution_count": 38,
   "metadata": {},
   "outputs": [],
   "source": [
    "def contador_goal(filas):\n",
    "    \"\"\"Recibe el dataset restante y devuelve la cantidad de filas encontradas \n",
    "    por cada uno de las etiquetas de la columna clasificadora.\n",
    "    \"\"\"\n",
    "    contador = {}\n",
    "    for fila in filas:\n",
    "        tag = fila[-1]\n",
    "        if tag not in contador:\n",
    "            contador[tag] = 0\n",
    "        contador[tag] += 1\n",
    "    return contador\n",
    "\n",
    "def pluralidad(diccionario):\n",
    "    \"\"\" Ante predicciones compuestas en hojas\n",
    "    se elige el de mayor probabilidad\n",
    "    \"\"\"\n",
    "    mayor = {'Yes':0}\n",
    "    for atributo in diccionario:\n",
    "        if (diccionario[atributo]>=mayor[list(mayor)[0]]):\n",
    "            mayor = {atributo : diccionario[atributo]}\n",
    "    return mayor\n"
   ]
  },
  {
   "cell_type": "code",
   "execution_count": 39,
   "metadata": {},
   "outputs": [],
   "source": [
    "class Criterio:\n",
    "    \"\"\"Clase que alberga el criterio de división de ramas por nodo.\n",
    "    \"\"\"\n",
    "    def __init__(self, columna, valor):\n",
    "        self.columna = columna\n",
    "        self.valor = valor\n",
    "\n",
    "    def match(self, ejemplo):\n",
    "        val = ejemplo[self.columna]\n",
    "        if isinstance(val, int) or isinstance(val, float): #Si es un valor numérico, su comparación en >=\n",
    "            return val >= self.valor\n",
    "        else:\n",
    "            return val == self.valor\n",
    "\n",
    "    def __repr__(self):\n",
    "        # This is just a helper method to print\n",
    "        # the criterio in a readable format.\n",
    "        condition = \"==\"\n",
    "        if isinstance(self.valor, int) or isinstance(self.valor, float):\n",
    "            condition = \">=\"\n",
    "        return \"%s %s %s?\" % (\n",
    "            columnas[self.columna], condition, str(self.valor))\n",
    "    \n",
    "class Nodo:\n",
    "    \"\"\"Nodo de decision\n",
    "    contiene las dos ramas y el criterio de división\n",
    "    \"\"\"\n",
    "\n",
    "    def __init__(self,criterio,\n",
    "                 yes_rama,\n",
    "                 no_rama):\n",
    "        self.criterio = criterio\n",
    "        self.yes_rama = yes_rama\n",
    "        self.no_rama = no_rama\n",
    "        \n",
    "class Hoja:\n",
    "    def __init__(self, filas):\n",
    "         self.prediccion = pluralidad(contador_goal(filas))\n"
   ]
  },
  {
   "cell_type": "code",
   "execution_count": 40,
   "metadata": {},
   "outputs": [],
   "source": [
    "def particion(filas, criterio):\n",
    "    \"\"\"Función encargada de partir el dataset dependiendo del criterio\n",
    "    \"\"\"\n",
    "\n",
    "    yes_filas, no_filas = [], []\n",
    "    for fila in filas:\n",
    "        if criterio.match(fila):\n",
    "            yes_filas.append(fila)\n",
    "        else:\n",
    "            no_filas.append(fila)\n",
    "    return yes_filas, no_filas\n"
   ]
  },
  {
   "cell_type": "markdown",
   "metadata": {},
   "source": [
    "### Entropia de Shannon\n",
    "La entropia de un sistema se refiere a la medida de incertidumbre. Un sistema totalmente parcial no posee incertidumbre probabilistica, por lo cual su entropía es cero. Mientras tanto, un sistema con igual probabilidad en cada uno de sus posibilidades es un sistema inparcial cuya entropía corresponde a uno. La fórmula usada para calcular la entropía de la variable V  con d cantidad distinto de valores es la siguiente:\n",
    "\n",
    "$$ - \\sum_{k = 1}^{d} P(v_{k}) log_{2} P(v_{k}) $$"
   ]
  },
  {
   "cell_type": "code",
   "execution_count": 41,
   "metadata": {},
   "outputs": [],
   "source": [
    "def entropia(filas):\n",
    "    \"\"\"Función encargada de calcular la entropía\n",
    "    \"\"\"\n",
    "    contador = contador_goal(filas)\n",
    "    entropia = 0\n",
    "    for tag in contador:\n",
    "        probabilidad = contador[tag] / float(len(filas))\n",
    "        entropia += probabilidad * math.log2(probabilidad) # sumatoria de la probabilidad de cada atributo por su log2\n",
    "    return entropia * -1"
   ]
  },
  {
   "cell_type": "markdown",
   "metadata": {},
   "source": [
    "### Ganancia\n",
    "La ganancia se refiere a la cantidad de entropia resultante de un sistema luego de que el conjunto de datos haya sido dividido a base de un atributo en específico. Su fórmula esta dada por la entropía menos el residuo que otorga la selección del atributo. El residuo es calculado de la siguiente manera:\n",
    "\n",
    "$$ Residuo(A) = \\sum_{k=1}^{d} \\frac{p_{k} + n_{k}}{p+n} * Entropia( \\frac {p_{k}}{p_{k}+n_{k}} ) $$"
   ]
  },
  {
   "cell_type": "code",
   "execution_count": 42,
   "metadata": {},
   "outputs": [],
   "source": [
    "def ganancia(izq, der, incertidumbre):\n",
    "    \"\"\"Función encargada de calcular la ganancia\n",
    "    \"\"\"\n",
    "    p = float(len(izq)) / (len(izq) + len(der))\n",
    "    return incertidumbre - p * entropia(izq) - (1 - p) * entropia(der)"
   ]
  },
  {
   "cell_type": "code",
   "execution_count": 43,
   "metadata": {},
   "outputs": [],
   "source": [
    "def mejor_atributo(filas):\n",
    "    \"\"\" Función encargada de calcular toda la ganacia de atributos y escoger\n",
    "    el que mayor ganancia otorga.\n",
    "    \"\"\"\n",
    "    mejor_ganancia = 0 \n",
    "    mejor_criterio = None \n",
    "    incertidumbre = entropia(filas)\n",
    "    cant_atributos = len(filas[0]) - 1 \n",
    "\n",
    "    for col in range(cant_atributos): \n",
    "        valores = set([row[col] for row in filas]) \n",
    "        for val in valores: \n",
    "            criterio = Criterio(col, val)\n",
    "            yes_filas, no_filas = particion(filas, criterio)\n",
    "            #Si alguno de los atributos es totalmente parcial, no se\n",
    "            #calcula la ganacia\n",
    "            if len(yes_filas) == 0 or len(no_filas) == 0:\n",
    "                continue\n",
    "\n",
    "            ganancia1 = ganancia(yes_filas, no_filas, incertidumbre)\n",
    "            if ganancia1 >= mejor_ganancia:\n",
    "                mejor_ganancia, mejor_criterio = ganancia1, criterio\n",
    "\n",
    "    return mejor_ganancia, mejor_criterio"
   ]
  },
  {
   "cell_type": "code",
   "execution_count": 44,
   "metadata": {},
   "outputs": [],
   "source": [
    "def contruccion_arbol(filas):\n",
    "    \"\"\"Función recursiva encargada de la creación del arbol\n",
    "    se hace dos llamadas recursivas por nodo, las cuales corresponden a las ramas.\n",
    "    \"\"\"\n",
    "\n",
    "    ganancia, criterio = mejor_atributo(filas)\n",
    "\n",
    "    #Si la ganancia es cero\n",
    "    #se crea una hoja\n",
    "    if ganancia == 0:\n",
    "        return Hoja(filas)\n",
    "\n",
    "    yes_filas, no_filas = particion(filas, criterio)\n",
    "    yes_branch = contruccion_arbol(yes_filas)\n",
    "    no_branch = contruccion_arbol(no_filas)\n",
    "\n",
    "    return Nodo(criterio, yes_branch, no_branch)"
   ]
  },
  {
   "cell_type": "code",
   "execution_count": 45,
   "metadata": {},
   "outputs": [
    {
     "ename": "ExecutableNotFound",
     "evalue": "failed to execute ['dot', '-Tsvg'], make sure the Graphviz executables are on your systems' PATH",
     "output_type": "error",
     "traceback": [
      "\u001b[1;31m---------------------------------------------------------------------------\u001b[0m",
      "\u001b[1;31mFileNotFoundError\u001b[0m                         Traceback (most recent call last)",
      "\u001b[1;32mc:\\users\\pcmaster\\appdata\\local\\programs\\python\\python37-32\\lib\\site-packages\\graphviz\\backend.py\u001b[0m in \u001b[0;36mrun\u001b[1;34m(cmd, input, capture_output, check, quiet, **kwargs)\u001b[0m\n\u001b[0;32m    110\u001b[0m     \u001b[1;32mtry\u001b[0m\u001b[1;33m:\u001b[0m\u001b[1;33m\u001b[0m\u001b[0m\n\u001b[1;32m--> 111\u001b[1;33m         \u001b[0mproc\u001b[0m \u001b[1;33m=\u001b[0m \u001b[0msubprocess\u001b[0m\u001b[1;33m.\u001b[0m\u001b[0mPopen\u001b[0m\u001b[1;33m(\u001b[0m\u001b[0mcmd\u001b[0m\u001b[1;33m,\u001b[0m \u001b[1;33m**\u001b[0m\u001b[0mkwargs\u001b[0m\u001b[1;33m)\u001b[0m\u001b[1;33m\u001b[0m\u001b[0m\n\u001b[0m\u001b[0;32m    112\u001b[0m     \u001b[1;32mexcept\u001b[0m \u001b[0mOSError\u001b[0m \u001b[1;32mas\u001b[0m \u001b[0me\u001b[0m\u001b[1;33m:\u001b[0m\u001b[1;33m\u001b[0m\u001b[0m\n",
      "\u001b[1;32mc:\\users\\pcmaster\\appdata\\local\\programs\\python\\python37-32\\lib\\subprocess.py\u001b[0m in \u001b[0;36m__init__\u001b[1;34m(self, args, bufsize, executable, stdin, stdout, stderr, preexec_fn, close_fds, shell, cwd, env, universal_newlines, startupinfo, creationflags, restore_signals, start_new_session, pass_fds, encoding, errors, text)\u001b[0m\n\u001b[0;32m    755\u001b[0m                                 \u001b[0merrread\u001b[0m\u001b[1;33m,\u001b[0m \u001b[0merrwrite\u001b[0m\u001b[1;33m,\u001b[0m\u001b[1;33m\u001b[0m\u001b[0m\n\u001b[1;32m--> 756\u001b[1;33m                                 restore_signals, start_new_session)\n\u001b[0m\u001b[0;32m    757\u001b[0m         \u001b[1;32mexcept\u001b[0m\u001b[1;33m:\u001b[0m\u001b[1;33m\u001b[0m\u001b[0m\n",
      "\u001b[1;32mc:\\users\\pcmaster\\appdata\\local\\programs\\python\\python37-32\\lib\\subprocess.py\u001b[0m in \u001b[0;36m_execute_child\u001b[1;34m(self, args, executable, preexec_fn, close_fds, pass_fds, cwd, env, startupinfo, creationflags, shell, p2cread, p2cwrite, c2pread, c2pwrite, errread, errwrite, unused_restore_signals, unused_start_new_session)\u001b[0m\n\u001b[0;32m   1154\u001b[0m                                          \u001b[0mos\u001b[0m\u001b[1;33m.\u001b[0m\u001b[0mfspath\u001b[0m\u001b[1;33m(\u001b[0m\u001b[0mcwd\u001b[0m\u001b[1;33m)\u001b[0m \u001b[1;32mif\u001b[0m \u001b[0mcwd\u001b[0m \u001b[1;32mis\u001b[0m \u001b[1;32mnot\u001b[0m \u001b[1;32mNone\u001b[0m \u001b[1;32melse\u001b[0m \u001b[1;32mNone\u001b[0m\u001b[1;33m,\u001b[0m\u001b[1;33m\u001b[0m\u001b[0m\n\u001b[1;32m-> 1155\u001b[1;33m                                          startupinfo)\n\u001b[0m\u001b[0;32m   1156\u001b[0m             \u001b[1;32mfinally\u001b[0m\u001b[1;33m:\u001b[0m\u001b[1;33m\u001b[0m\u001b[0m\n",
      "\u001b[1;31mFileNotFoundError\u001b[0m: [WinError 2] El sistema no puede encontrar el archivo especificado",
      "\nDuring handling of the above exception, another exception occurred:\n",
      "\u001b[1;31mExecutableNotFound\u001b[0m                        Traceback (most recent call last)",
      "\u001b[1;32mc:\\users\\pcmaster\\appdata\\local\\programs\\python\\python37-32\\lib\\site-packages\\IPython\\core\\formatters.py\u001b[0m in \u001b[0;36m__call__\u001b[1;34m(self, obj)\u001b[0m\n\u001b[0;32m    343\u001b[0m             \u001b[0mmethod\u001b[0m \u001b[1;33m=\u001b[0m \u001b[0mget_real_method\u001b[0m\u001b[1;33m(\u001b[0m\u001b[0mobj\u001b[0m\u001b[1;33m,\u001b[0m \u001b[0mself\u001b[0m\u001b[1;33m.\u001b[0m\u001b[0mprint_method\u001b[0m\u001b[1;33m)\u001b[0m\u001b[1;33m\u001b[0m\u001b[0m\n\u001b[0;32m    344\u001b[0m             \u001b[1;32mif\u001b[0m \u001b[0mmethod\u001b[0m \u001b[1;32mis\u001b[0m \u001b[1;32mnot\u001b[0m \u001b[1;32mNone\u001b[0m\u001b[1;33m:\u001b[0m\u001b[1;33m\u001b[0m\u001b[0m\n\u001b[1;32m--> 345\u001b[1;33m                 \u001b[1;32mreturn\u001b[0m \u001b[0mmethod\u001b[0m\u001b[1;33m(\u001b[0m\u001b[1;33m)\u001b[0m\u001b[1;33m\u001b[0m\u001b[0m\n\u001b[0m\u001b[0;32m    346\u001b[0m             \u001b[1;32mreturn\u001b[0m \u001b[1;32mNone\u001b[0m\u001b[1;33m\u001b[0m\u001b[0m\n\u001b[0;32m    347\u001b[0m         \u001b[1;32melse\u001b[0m\u001b[1;33m:\u001b[0m\u001b[1;33m\u001b[0m\u001b[0m\n",
      "\u001b[1;32mc:\\users\\pcmaster\\appdata\\local\\programs\\python\\python37-32\\lib\\site-packages\\graphviz\\files.py\u001b[0m in \u001b[0;36m_repr_svg_\u001b[1;34m(self)\u001b[0m\n\u001b[0;32m    104\u001b[0m \u001b[1;33m\u001b[0m\u001b[0m\n\u001b[0;32m    105\u001b[0m     \u001b[1;32mdef\u001b[0m \u001b[0m_repr_svg_\u001b[0m\u001b[1;33m(\u001b[0m\u001b[0mself\u001b[0m\u001b[1;33m)\u001b[0m\u001b[1;33m:\u001b[0m\u001b[1;33m\u001b[0m\u001b[0m\n\u001b[1;32m--> 106\u001b[1;33m         \u001b[1;32mreturn\u001b[0m \u001b[0mself\u001b[0m\u001b[1;33m.\u001b[0m\u001b[0mpipe\u001b[0m\u001b[1;33m(\u001b[0m\u001b[0mformat\u001b[0m\u001b[1;33m=\u001b[0m\u001b[1;34m'svg'\u001b[0m\u001b[1;33m)\u001b[0m\u001b[1;33m.\u001b[0m\u001b[0mdecode\u001b[0m\u001b[1;33m(\u001b[0m\u001b[0mself\u001b[0m\u001b[1;33m.\u001b[0m\u001b[0m_encoding\u001b[0m\u001b[1;33m)\u001b[0m\u001b[1;33m\u001b[0m\u001b[0m\n\u001b[0m\u001b[0;32m    107\u001b[0m \u001b[1;33m\u001b[0m\u001b[0m\n\u001b[0;32m    108\u001b[0m     \u001b[1;32mdef\u001b[0m \u001b[0mpipe\u001b[0m\u001b[1;33m(\u001b[0m\u001b[0mself\u001b[0m\u001b[1;33m,\u001b[0m \u001b[0mformat\u001b[0m\u001b[1;33m=\u001b[0m\u001b[1;32mNone\u001b[0m\u001b[1;33m)\u001b[0m\u001b[1;33m:\u001b[0m\u001b[1;33m\u001b[0m\u001b[0m\n",
      "\u001b[1;32mc:\\users\\pcmaster\\appdata\\local\\programs\\python\\python37-32\\lib\\site-packages\\graphviz\\files.py\u001b[0m in \u001b[0;36mpipe\u001b[1;34m(self, format)\u001b[0m\n\u001b[0;32m    123\u001b[0m         \u001b[0mdata\u001b[0m \u001b[1;33m=\u001b[0m \u001b[0mtext_type\u001b[0m\u001b[1;33m(\u001b[0m\u001b[0mself\u001b[0m\u001b[1;33m.\u001b[0m\u001b[0msource\u001b[0m\u001b[1;33m)\u001b[0m\u001b[1;33m.\u001b[0m\u001b[0mencode\u001b[0m\u001b[1;33m(\u001b[0m\u001b[0mself\u001b[0m\u001b[1;33m.\u001b[0m\u001b[0m_encoding\u001b[0m\u001b[1;33m)\u001b[0m\u001b[1;33m\u001b[0m\u001b[0m\n\u001b[0;32m    124\u001b[0m \u001b[1;33m\u001b[0m\u001b[0m\n\u001b[1;32m--> 125\u001b[1;33m         \u001b[0mouts\u001b[0m \u001b[1;33m=\u001b[0m \u001b[0mbackend\u001b[0m\u001b[1;33m.\u001b[0m\u001b[0mpipe\u001b[0m\u001b[1;33m(\u001b[0m\u001b[0mself\u001b[0m\u001b[1;33m.\u001b[0m\u001b[0m_engine\u001b[0m\u001b[1;33m,\u001b[0m \u001b[0mformat\u001b[0m\u001b[1;33m,\u001b[0m \u001b[0mdata\u001b[0m\u001b[1;33m)\u001b[0m\u001b[1;33m\u001b[0m\u001b[0m\n\u001b[0m\u001b[0;32m    126\u001b[0m \u001b[1;33m\u001b[0m\u001b[0m\n\u001b[0;32m    127\u001b[0m         \u001b[1;32mreturn\u001b[0m \u001b[0mouts\u001b[0m\u001b[1;33m\u001b[0m\u001b[0m\n",
      "\u001b[1;32mc:\\users\\pcmaster\\appdata\\local\\programs\\python\\python37-32\\lib\\site-packages\\graphviz\\backend.py\u001b[0m in \u001b[0;36mpipe\u001b[1;34m(engine, format, data, quiet)\u001b[0m\n\u001b[0;32m    160\u001b[0m     \"\"\"\n\u001b[0;32m    161\u001b[0m     \u001b[0mcmd\u001b[0m\u001b[1;33m,\u001b[0m \u001b[0m_\u001b[0m \u001b[1;33m=\u001b[0m \u001b[0mcommand\u001b[0m\u001b[1;33m(\u001b[0m\u001b[0mengine\u001b[0m\u001b[1;33m,\u001b[0m \u001b[0mformat\u001b[0m\u001b[1;33m)\u001b[0m\u001b[1;33m\u001b[0m\u001b[0m\n\u001b[1;32m--> 162\u001b[1;33m     \u001b[0mout\u001b[0m\u001b[1;33m,\u001b[0m \u001b[0m_\u001b[0m \u001b[1;33m=\u001b[0m \u001b[0mrun\u001b[0m\u001b[1;33m(\u001b[0m\u001b[0mcmd\u001b[0m\u001b[1;33m,\u001b[0m \u001b[0minput\u001b[0m\u001b[1;33m=\u001b[0m\u001b[0mdata\u001b[0m\u001b[1;33m,\u001b[0m \u001b[0mcapture_output\u001b[0m\u001b[1;33m=\u001b[0m\u001b[1;32mTrue\u001b[0m\u001b[1;33m,\u001b[0m \u001b[0mcheck\u001b[0m\u001b[1;33m=\u001b[0m\u001b[1;32mTrue\u001b[0m\u001b[1;33m,\u001b[0m \u001b[0mquiet\u001b[0m\u001b[1;33m=\u001b[0m\u001b[0mquiet\u001b[0m\u001b[1;33m)\u001b[0m\u001b[1;33m\u001b[0m\u001b[0m\n\u001b[0m\u001b[0;32m    163\u001b[0m     \u001b[1;32mreturn\u001b[0m \u001b[0mout\u001b[0m\u001b[1;33m\u001b[0m\u001b[0m\n\u001b[0;32m    164\u001b[0m \u001b[1;33m\u001b[0m\u001b[0m\n",
      "\u001b[1;32mc:\\users\\pcmaster\\appdata\\local\\programs\\python\\python37-32\\lib\\site-packages\\graphviz\\backend.py\u001b[0m in \u001b[0;36mrun\u001b[1;34m(cmd, input, capture_output, check, quiet, **kwargs)\u001b[0m\n\u001b[0;32m    112\u001b[0m     \u001b[1;32mexcept\u001b[0m \u001b[0mOSError\u001b[0m \u001b[1;32mas\u001b[0m \u001b[0me\u001b[0m\u001b[1;33m:\u001b[0m\u001b[1;33m\u001b[0m\u001b[0m\n\u001b[0;32m    113\u001b[0m         \u001b[1;32mif\u001b[0m \u001b[0me\u001b[0m\u001b[1;33m.\u001b[0m\u001b[0merrno\u001b[0m \u001b[1;33m==\u001b[0m \u001b[0merrno\u001b[0m\u001b[1;33m.\u001b[0m\u001b[0mENOENT\u001b[0m\u001b[1;33m:\u001b[0m\u001b[1;33m\u001b[0m\u001b[0m\n\u001b[1;32m--> 114\u001b[1;33m             \u001b[1;32mraise\u001b[0m \u001b[0mExecutableNotFound\u001b[0m\u001b[1;33m(\u001b[0m\u001b[0mcmd\u001b[0m\u001b[1;33m)\u001b[0m\u001b[1;33m\u001b[0m\u001b[0m\n\u001b[0m\u001b[0;32m    115\u001b[0m         \u001b[1;32melse\u001b[0m\u001b[1;33m:\u001b[0m  \u001b[1;31m# pragma: no cover\u001b[0m\u001b[1;33m\u001b[0m\u001b[0m\n\u001b[0;32m    116\u001b[0m             \u001b[1;32mraise\u001b[0m\u001b[1;33m\u001b[0m\u001b[0m\n",
      "\u001b[1;31mExecutableNotFound\u001b[0m: failed to execute ['dot', '-Tsvg'], make sure the Graphviz executables are on your systems' PATH"
     ]
    },
    {
     "data": {
      "text/plain": [
       "<graphviz.dot.Digraph at 0x15bec30>"
      ]
     },
     "execution_count": 45,
     "metadata": {},
     "output_type": "execute_result"
    }
   ],
   "source": [
    "G = graphviz.Digraph()\n",
    "node_id=0\n",
    "def print_tree(node):\n",
    "\n",
    "    global node_id\n",
    "    # Base case: we've reached a leaf\n",
    "    if isinstance(node, Hoja):\n",
    "        hoja = str(node_id)\n",
    "        G.node(hoja, label = str(node.prediccion), style=\"rounded, filled\", shape=\"box\", fillcolor=\"lightgreen\")\n",
    "        node_id += 1\n",
    "        return hoja\n",
    "\n",
    "    # Print the question at this node\n",
    "    rama = str(node_id)\n",
    "    G.node(rama, label = str(node.criterio), style=\"rounded, filled\", shape=\"box\")\n",
    "    node_id += 1\n",
    "\n",
    "    # Call this function recursively on the true branch\n",
    "    G.edge(rama, print_tree(node.yes_rama), label = \"true\")\n",
    "\n",
    "    # Call this function recursively on the false branch\n",
    "    G.edge(rama, print_tree(node.no_rama), label = \"false\")\n",
    "\n",
    "    return rama\n",
    "\n",
    "my_tree = contruccion_arbol(dataset)\n",
    "print_tree(my_tree)\n",
    "G"
   ]
  }
 ],
 "metadata": {
  "kernelspec": {
   "display_name": "Python 3",
   "language": "python",
   "name": "python3"
  },
  "language_info": {
   "codemirror_mode": {
    "name": "ipython",
    "version": 3
   },
   "file_extension": ".py",
   "mimetype": "text/x-python",
   "name": "python",
   "nbconvert_exporter": "python",
   "pygments_lexer": "ipython3",
   "version": "3.7.0"
  }
 },
 "nbformat": 4,
 "nbformat_minor": 2
}
