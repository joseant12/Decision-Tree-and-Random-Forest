{
 "cells": [
  {
   "cell_type": "markdown",
   "metadata": {},
   "source": [
    "# Decision Tree\n",
    "___\n",
    "\n",
    "Un arbol de decisión es una función que toma un vector o dataset como parámetro de entrada y genera un resultado llamado decisión, esta decisión puede ser un valor discreto o continuo.\n",
    "\n",
    "### Nodos del árbol\n",
    "\n",
    "Existen dos tipos de nodos en un árbol de decisión, ramas y hojas, las ramas contienen los predicados o \"preguntas\" que permiten tomar una decisión al algoritmo, por otra parte, las hojas contienen la decisión a la que se llega mediante los predicados en las ramas del árbol.\n",
    "\n",
    "### Selección de predicados\n",
    "\n",
    "La selección de un predicado en un nivel del árbol determina que tanto se disminuirá la incertidumbre de los datos en el siguiente nivel para así poder llegar una decisión lo más acertada posible, es por esto que elegir el mejor predicado para dividir el árbol es la tarea más importante. Para poder elegir el mejor predicado considere los siguientes conceptos:\n",
    "\n",
    "#### Entropía\n",
    "\n"
   ]
  },
  {
   "cell_type": "markdown",
   "metadata": {},
   "source": [
    "### Imports"
   ]
  },
  {
   "cell_type": "code",
   "execution_count": 60,
   "metadata": {},
   "outputs": [],
   "source": [
    "from __future__ import print_function\n",
    "import math"
   ]
  },
  {
   "cell_type": "markdown",
   "metadata": {},
   "source": [
    "### Dataset"
   ]
  },
  {
   "cell_type": "code",
   "execution_count": 61,
   "metadata": {},
   "outputs": [],
   "source": [
    "columnas = [\"Alt\", \"Bar\", \"Fri\", \"Hun\", \"Pat\", \"Price\", \"Rain\", \"Res\", \"Type\", \"Est\", \"Goal\"]\n",
    "dataset = [\n",
    "    ['Yes', 'No', 'No', 'Yes', 'Some', 3, 'No', 'Yes', 'French', '10', 'Yes'],\n",
    "    ['Yes', 'No', 'No', 'Yes', 'Full', 1, 'No', 'No', 'Thai', '60', 'No'],\n",
    "    ['No', 'Yes', 'No', 'No', 'Some', 1, 'No', 'No', 'Burger', '10', 'Yes'],\n",
    "    ['Yes', 'No', 'Yes', 'Yes', 'Full', 1, 'Yes', 'No', 'Thai', '30', 'Yes'],\n",
    "    ['Yes', 'No', 'Yes', 'No', 'Full', 3, 'No', 'Yes', 'French', '80', 'No'],\n",
    "    ['No', 'Yes', 'No', 'Yes', 'Some', 2, 'Yes', 'Yes', 'Italian', '10', 'Yes'],\n",
    "    ['No', 'Yes', 'No', 'No', 'None', 1, 'Yes', 'No', 'Burger', '10', 'No'],\n",
    "    ['No', 'No', 'No', 'Yes', 'Some', 2, 'Yes', 'Yes', 'Thai', '10', 'Yes'],\n",
    "    ['No', 'Yes', 'Yes', 'No', 'Full', 1, 'Yes', 'No', 'Burger', '80', 'No'],\n",
    "    ['Yes', 'Yes', 'Yes', 'Yes', 'Full', 3, 'No', 'Yes', 'Italian', '30', 'No'],\n",
    "    ['No', 'No', 'No', 'No', 'None', 1, 'No', 'No', 'Thai', '10', 'No'],\n",
    "    ['Yes', 'Yes', 'Yes', 'Yes', 'Full', 1, 'No', 'No', 'Burger', '60', 'Yes']\n",
    "]"
   ]
  },
  {
   "cell_type": "code",
   "execution_count": 62,
   "metadata": {},
   "outputs": [],
   "source": [
    "def contador_goal(filas):\n",
    "    \"\"\"Recibe el dataset restante y devuelve la cantidad de filas encontradas \n",
    "    por cada uno de las etiquetas de la columna clasificadora.\n",
    "    \"\"\"\n",
    "    contador = {}\n",
    "    for fila in filas:\n",
    "        tag = fila[-1]\n",
    "        if tag not in contador:\n",
    "            contador[tag] = 0\n",
    "        contador[tag] += 1\n",
    "    return contador\n"
   ]
  },
  {
   "cell_type": "code",
   "execution_count": 63,
   "metadata": {},
   "outputs": [],
   "source": [
    "class Criterio:\n",
    "    \"\"\"Clase que alberga el criterio de división de ramas por nodo.\n",
    "    \"\"\"\n",
    "    def __init__(self, columna, valor):\n",
    "        self.columna = columna\n",
    "        self.valor = valor\n",
    "\n",
    "    def match(self, ejemplo):\n",
    "        val = ejemplo[self.columna]\n",
    "        if isinstance(val, int) or isinstance(val, float): #Si es un valor numérico, su comparación en >=\n",
    "            return val >= self.valor\n",
    "        else:\n",
    "            return val == self.valor\n",
    "\n",
    "    def __repr__(self):\n",
    "        # This is just a helper method to print\n",
    "        # the criterio in a readable format.\n",
    "        condition = \"==\"\n",
    "        if is_numeric(self.valor):\n",
    "            condition = \">=\"\n",
    "        return \"Is %s %s %s?\" % (\n",
    "            columnas[self.columna], condition, str(self.valor))\n",
    "    \n",
    "class Nodo:\n",
    "    \"\"\"Nodo de decision\n",
    "    contiene las dos ramas y el criterio de división\n",
    "    \"\"\"\n",
    "\n",
    "    def __init__(self,criterio,\n",
    "                 yes_rama,\n",
    "                 no_rama):\n",
    "        self.criterio = criterio\n",
    "        self.yes_rama = yes_rama\n",
    "        self.no_rama = no_rama\n",
    "        \n",
    "class Hoja:\n",
    "    def __init__(self, filas):\n",
    "        self.prediccion = contador_goal(filas)\n"
   ]
  },
  {
   "cell_type": "code",
   "execution_count": 64,
   "metadata": {},
   "outputs": [],
   "source": [
    "def particion(filas, criterio):\n",
    "    \"\"\"Función encargada de partir el dataset dependiendo del criterio\n",
    "    \"\"\"\n",
    "\n",
    "    yes_filas, no_filas = [], []\n",
    "    for fila in filas:\n",
    "        if criterio.match(fila):\n",
    "            yes_filas.append(fila)\n",
    "        else:\n",
    "            no_filas.append(fila)\n",
    "    return yes_filas, no_filas\n"
   ]
  },
  {
   "cell_type": "code",
   "execution_count": 65,
   "metadata": {},
   "outputs": [],
   "source": [
    "def entropia(filas):\n",
    "    \"\"\"Función encargada de calcular la entropía\n",
    "    \"\"\"\n",
    "    contador = contador_goal(filas)\n",
    "    entropia = 0\n",
    "    for tag in contador:\n",
    "        probabilidad = contador[tag] / float(len(filas))\n",
    "        entropia += probabilidad * math.log2(probabilidad)\n",
    "    return entropia * -1"
   ]
  },
  {
   "cell_type": "code",
   "execution_count": 66,
   "metadata": {},
   "outputs": [],
   "source": [
    "def ganancia(izq, der, incertidumbre):\n",
    "    \"\"\"Función encargada de calcular la ganancia\n",
    "    \"\"\"\n",
    "    p = float(len(izq)) / (len(izq) + len(der))\n",
    "    return incertidumbre - p * entropia(izq) - (1 - p) * entropia(der)"
   ]
  },
  {
   "cell_type": "code",
   "execution_count": 67,
   "metadata": {},
   "outputs": [],
   "source": [
    "def mejor_atributo(filas):\n",
    "    \"\"\" Función encargada de calcular toda la ganacia de atributos y escoger\n",
    "    el que mayor ganancia otorga.\n",
    "    \"\"\"\n",
    "    mejor_ganancia = 0 \n",
    "    mejor_criterio = None \n",
    "    incertidumbre = entropia(filas)\n",
    "    print(incertidumbre)\n",
    "    cant_atributos = len(filas[0]) - 1 \n",
    "\n",
    "    for col in range(cant_atributos): \n",
    "        valores = set([row[col] for row in filas]) \n",
    "        for val in valores: \n",
    "            criterio = Criterio(col, val)\n",
    "            yes_filas, no_filas = particion(filas, criterio)\n",
    "            #Si alguno de los atributos es totalmente parcial, no se\n",
    "            #calcula la ganacia\n",
    "            if len(yes_filas) == 0 or len(no_filas) == 0:\n",
    "                continue\n",
    "\n",
    "            ganancia1 = ganancia(yes_filas, no_filas, incertidumbre)\n",
    "            if ganancia1 >= mejor_ganancia:\n",
    "                mejor_ganancia, mejor_criterio = ganancia1, criterio\n",
    "\n",
    "    return mejor_ganancia, mejor_criterio"
   ]
  },
  {
   "cell_type": "code",
   "execution_count": 68,
   "metadata": {},
   "outputs": [],
   "source": [
    "def contruccion_arbol(filas):\n",
    "    \"\"\"Función recursiva encargada de la creación del arbol\n",
    "    se hace dos llamadas recursivas por nodo, las cuales corresponden a las ramas.\n",
    "    \"\"\"\n",
    "\n",
    "    ganancia, criterio = mejor_atributo(filas)\n",
    "\n",
    "    #Si la ganancia es cero\n",
    "    #se crea una hoja\n",
    "    if ganancia == 0:\n",
    "        return Hoja(filas)\n",
    "\n",
    "    yes_filas, no_filas = particion(filas, criterio)\n",
    "    yes_branch = contruccion_arbol(yes_filas)\n",
    "    no_branch = contruccion_arbol(no_filas)\n",
    "\n",
    "    return Nodo(criterio, yes_branch, no_branch)"
   ]
  },
  {
   "cell_type": "code",
   "execution_count": 69,
   "metadata": {},
   "outputs": [
    {
     "name": "stdout",
     "output_type": "stream",
     "text": [
      "1.0\n",
      "-0.0\n",
      "0.8112781244591328\n",
      "-0.0\n",
      "1.0\n",
      "-0.0\n",
      "0.9182958340544896\n",
      "-0.0\n",
      "-0.0\n"
     ]
    }
   ],
   "source": [
    "def print_tree(node, spacing=\"\"):\n",
    "    \"\"\"World's most elegant tree printing function.\"\"\"\n",
    "\n",
    "    # Base case: we've reached a leaf\n",
    "    if isinstance(node, Hoja):\n",
    "        print (spacing + \"Predict\", node.prediccion)\n",
    "        return\n",
    "\n",
    "    # Print the question at this node\n",
    "    print (spacing + str(node.criterio))\n",
    "\n",
    "    # Call this function recursively on the true branch\n",
    "    print (spacing + '--> True:')\n",
    "    print_tree(node.yes_rama, spacing + \"  \")\n",
    "\n",
    "    # Call this function recursively on the false branch\n",
    "    print (spacing + '--> False:')\n",
    "    print_tree(node.no_rama, spacing + \"  \")\n",
    "    \n",
    "    \n",
    "my_tree = contruccion_arbol(dataset)"
   ]
  },
  {
   "cell_type": "code",
   "execution_count": 70,
   "metadata": {},
   "outputs": [
    {
     "name": "stdout",
     "output_type": "stream",
     "text": [
      "Is Pat == Some?\n",
      "--> True:\n",
      "  Predict {'Yes': 4}\n",
      "--> False:\n",
      "  Is Hun == No?\n",
      "  --> True:\n",
      "    Predict {'No': 4}\n",
      "  --> False:\n",
      "    Is Type == Italian?\n",
      "    --> True:\n",
      "      Predict {'No': 1}\n",
      "    --> False:\n",
      "      Is Fri == No?\n",
      "      --> True:\n",
      "        Predict {'No': 1}\n",
      "      --> False:\n",
      "        Predict {'Yes': 2}\n"
     ]
    }
   ],
   "source": [
    "print_tree(my_tree)"
   ]
  }
 ],
 "metadata": {
  "kernelspec": {
   "display_name": "Python 3",
   "language": "python",
   "name": "python3"
  },
  "language_info": {
   "codemirror_mode": {
    "name": "ipython",
    "version": 3
   },
   "file_extension": ".py",
   "mimetype": "text/x-python",
   "name": "python",
   "nbconvert_exporter": "python",
   "pygments_lexer": "ipython3",
   "version": "3.7.0"
  }
 },
 "nbformat": 4,
 "nbformat_minor": 2
}
